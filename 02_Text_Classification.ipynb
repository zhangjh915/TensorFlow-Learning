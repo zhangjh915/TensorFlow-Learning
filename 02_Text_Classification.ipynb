{
 "cells": [
  {
   "cell_type": "markdown",
   "metadata": {},
   "source": [
    "Now that you have finished the simplest problem using TensorFlow, then we can move forward to text classification. This task is almost the same simple with the last one except for the preprocessing step, but the decoding in preprocessing is already included in the package. The idea of this notebook comes from [TensorFlow Tutorial](https://www.tensorflow.org/tutorials/keras/basic_text_classification). Let's get started!"
   ]
  },
  {
   "cell_type": "markdown",
   "metadata": {},
   "source": [
    "The dataset used in this notebook is [IMBD Dataset](https://www.tensorflow.org/api_docs/python/tf/keras/datasets/imdb). It includes the preprocessed reviews and labels of positive or negative."
   ]
  },
  {
   "cell_type": "code",
   "execution_count": 1,
   "metadata": {},
   "outputs": [],
   "source": [
    "# Import libraries.\n",
    "import tensorflow as tf\n",
    "from tensorflow import keras\n",
    "\n",
    "import numpy as np\n",
    "import matplotlib.pyplot as plt"
   ]
  },
  {
   "cell_type": "code",
   "execution_count": 2,
   "metadata": {},
   "outputs": [
    {
     "name": "stdout",
     "output_type": "stream",
     "text": [
      "training data:  (25000,)\n",
      "training labels:  (25000,)\n",
      "test data:  (25000,)\n",
      "test labels:  (25000,)\n"
     ]
    }
   ],
   "source": [
    "# Download and check dimension of the dataset.\n",
    "imdb = keras.datasets.imdb\n",
    "\n",
    "(train_data, train_labels), (test_data, test_labels) = imdb.load_data(num_words=10000)  # \"num_words\" takes the first most frequent words\n",
    "\n",
    "print('training data: ', train_data.shape)\n",
    "print('training labels: ', train_labels.shape)\n",
    "print('test data: ', test_data.shape)\n",
    "print('test labels: ', test_labels.shape)"
   ]
  },
  {
   "cell_type": "code",
   "execution_count": 3,
   "metadata": {},
   "outputs": [
    {
     "name": "stdout",
     "output_type": "stream",
     "text": [
      "[1, 14, 22, 16, 43, 530, 973, 1622, 1385, 65, 458, 4468, 66, 3941, 4, 173, 36, 256, 5, 25, 100, 43, 838, 112, 50, 670, 2, 9, 35, 480, 284, 5, 150, 4, 172, 112, 167, 2, 336, 385, 39, 4, 172, 4536, 1111, 17, 546, 38, 13, 447, 4, 192, 50, 16, 6, 147, 2025, 19, 14, 22, 4, 1920, 4613, 469, 4, 22, 71, 87, 12, 16, 43, 530, 38, 76, 15, 13, 1247, 4, 22, 17, 515, 17, 12, 16, 626, 18, 2, 5, 62, 386, 12, 8, 316, 8, 106, 5, 4, 2223, 5244, 16, 480, 66, 3785, 33, 4, 130, 12, 16, 38, 619, 5, 25, 124, 51, 36, 135, 48, 25, 1415, 33, 6, 22, 12, 215, 28, 77, 52, 5, 14, 407, 16, 82, 2, 8, 4, 107, 117, 5952, 15, 256, 4, 2, 7, 3766, 5, 723, 36, 71, 43, 530, 476, 26, 400, 317, 46, 7, 4, 2, 1029, 13, 104, 88, 4, 381, 15, 297, 98, 32, 2071, 56, 26, 141, 6, 194, 7486, 18, 4, 226, 22, 21, 134, 476, 26, 480, 5, 144, 30, 5535, 18, 51, 36, 28, 224, 92, 25, 104, 4, 226, 65, 16, 38, 1334, 88, 12, 16, 283, 5, 16, 4472, 113, 103, 32, 15, 16, 5345, 19, 178, 32]  ->  1\n"
     ]
    },
    {
     "data": {
      "text/plain": [
       "\"<START> this film was just brilliant casting location scenery story direction everyone's really suited the part they played and you could just imagine being there robert <UNK> is an amazing actor and now the same being director <UNK> father came from the same scottish island as myself so i loved the fact there was a real connection with this film the witty remarks throughout the film were great it was just brilliant so much that i bought the film as soon as it was released for <UNK> and would recommend it to everyone to watch and the fly fishing was amazing really cried at the end it was so sad and you know what they say if you cry at a film it must have been good and this definitely was also <UNK> to the two little boy's that played the <UNK> of norman and paul they were just brilliant children are often left out of the <UNK> list i think because the stars that play them all grown up are such a big profile for the whole film but these children are amazing and should be praised for what they have done don't you think the whole story was so lovely because it was true and was someone's life after all that was shared with us all\""
      ]
     },
     "execution_count": 3,
     "metadata": {},
     "output_type": "execute_result"
    }
   ],
   "source": [
    "# Visualize the decoded dataset adapted from the tutorial.\n",
    "word_index = imdb.get_word_index()\n",
    "\n",
    "# The first four indices are reserved\n",
    "word_index = {k:(v+3) for k,v in word_index.items()}\n",
    "word_index[\"<PAD>\"] = 0\n",
    "word_index[\"<START>\"] = 1\n",
    "word_index[\"<UNK>\"] = 2  # unknown\n",
    "word_index[\"<UNUSED>\"] = 3\n",
    "\n",
    "word_index = dict([(value, key) for (key, value) in word_index.items()])\n",
    "\n",
    "def decode_review(text):\n",
    "    return ' '.join([word_index.get(i, '?') for i in text])\n",
    "\n",
    "print(train_data[0], ' -> ', train_labels[0])\n",
    "decode_review(train_data[0])"
   ]
  },
  {
   "cell_type": "code",
   "execution_count": 4,
   "metadata": {},
   "outputs": [
    {
     "name": "stdout",
     "output_type": "stream",
     "text": [
      "[   1   14   22   16   43  530  973 1622 1385   65  458 4468   66 3941\n",
      "    4  173   36  256    5   25  100   43  838  112   50  670    2    9\n",
      "   35  480  284    5  150    4  172  112  167    2  336  385   39    4\n",
      "  172 4536 1111   17  546   38   13  447    4  192   50   16    6  147\n",
      " 2025   19   14   22    4 1920 4613  469    4   22   71   87   12   16\n",
      "   43  530   38   76   15   13 1247    4   22   17  515   17   12   16\n",
      "  626   18    2    5   62  386   12    8  316    8  106    5    4 2223\n",
      " 5244   16  480   66 3785   33    4  130   12   16   38  619    5   25\n",
      "  124   51   36  135   48   25 1415   33    6   22   12  215   28   77\n",
      "   52    5   14  407   16   82    2    8    4  107  117 5952   15  256\n",
      "    4    2    7 3766    5  723   36   71   43  530  476   26  400  317\n",
      "   46    7    4    2 1029   13  104   88    4  381   15  297   98   32\n",
      " 2071   56   26  141    6  194 7486   18    4  226   22   21  134  476\n",
      "   26  480    5  144   30 5535   18   51   36   28  224   92   25  104\n",
      "    4  226   65   16   38 1334   88   12   16  283    5   16 4472  113\n",
      "  103   32   15   16 5345   19  178   32    0    0    0    0    0    0\n",
      "    0    0    0    0    0    0    0    0    0    0    0    0    0    0\n",
      "    0    0    0    0    0    0    0    0    0    0    0    0    0    0\n",
      "    0    0    0    0]\n",
      "training data length:  256\n"
     ]
    }
   ],
   "source": [
    "# Preprocess data to pad them to same lengths.\n",
    "train_data = keras.preprocessing.sequence.pad_sequences(train_data,\n",
    "                                                        value=0,\n",
    "                                                        padding='post',\n",
    "                                                        maxlen=256)\n",
    "test_data = keras.preprocessing.sequence.pad_sequences(test_data,\n",
    "                                                       value=0,\n",
    "                                                       padding='post',\n",
    "                                                       maxlen=256)\n",
    "print(train_data[0])\n",
    "print('training data length: ', train_data.shape[1])"
   ]
  },
  {
   "cell_type": "code",
   "execution_count": 5,
   "metadata": {},
   "outputs": [
    {
     "name": "stdout",
     "output_type": "stream",
     "text": [
      "WARNING:tensorflow:From C:\\Users\\rambo\\Anaconda3\\lib\\site-packages\\tensorflow\\python\\ops\\resource_variable_ops.py:435: colocate_with (from tensorflow.python.framework.ops) is deprecated and will be removed in a future version.\n",
      "Instructions for updating:\n",
      "Colocations handled automatically by placer.\n",
      "_________________________________________________________________\n",
      "Layer (type)                 Output Shape              Param #   \n",
      "=================================================================\n",
      "embedding (Embedding)        (None, None, 16)          160000    \n",
      "_________________________________________________________________\n",
      "global_average_pooling1d (Gl (None, 16)                0         \n",
      "_________________________________________________________________\n",
      "dense (Dense)                (None, 16)                272       \n",
      "_________________________________________________________________\n",
      "dense_1 (Dense)              (None, 1)                 17        \n",
      "=================================================================\n",
      "Total params: 160,289\n",
      "Trainable params: 160,289\n",
      "Non-trainable params: 0\n",
      "_________________________________________________________________\n"
     ]
    }
   ],
   "source": [
    "# Model construction.\n",
    "model = keras.Sequential()\n",
    "model.add(keras.layers.Embedding(10000, 16))  # embedding layer with size 10000 as the number of words and will add a new dimension\n",
    "model.add(keras.layers.GlobalAveragePooling1D())\n",
    "model.add(keras.layers.Dense(16, activation=tf.nn.relu))\n",
    "model.add(keras.layers.Dense(1, activation=tf.nn.sigmoid))\n",
    "\n",
    "model.summary()"
   ]
  },
  {
   "cell_type": "code",
   "execution_count": 6,
   "metadata": {},
   "outputs": [],
   "source": [
    "# Model compiling.\n",
    "model.compile(optimizer='adam',\n",
    "              loss='binary_crossentropy',  # \"binary_crossentropy\" is better for probability problems\n",
    "              metrics=['accuracy'])"
   ]
  },
  {
   "cell_type": "code",
   "execution_count": 7,
   "metadata": {},
   "outputs": [],
   "source": [
    "# Create validation set.\n",
    "x_train = train_data[10000:]\n",
    "x_val = train_data[:10000]\n",
    "y_train = train_labels[10000:]\n",
    "y_val = train_labels[:10000]"
   ]
  },
  {
   "cell_type": "code",
   "execution_count": 8,
   "metadata": {},
   "outputs": [
    {
     "name": "stdout",
     "output_type": "stream",
     "text": [
      "Train on 15000 samples, validate on 10000 samples\n",
      "WARNING:tensorflow:From C:\\Users\\rambo\\Anaconda3\\lib\\site-packages\\tensorflow\\python\\ops\\math_ops.py:3066: to_int32 (from tensorflow.python.ops.math_ops) is deprecated and will be removed in a future version.\n",
      "Instructions for updating:\n",
      "Use tf.cast instead.\n",
      "Epoch 1/40\n",
      "15000/15000 [==============================] - 1s 63us/sample - loss: 0.6924 - acc: 0.6056 - val_loss: 0.6912 - val_acc: 0.6673\n",
      "Epoch 2/40\n",
      "15000/15000 [==============================] - 1s 47us/sample - loss: 0.6885 - acc: 0.6814 - val_loss: 0.6851 - val_acc: 0.6902\n",
      "Epoch 3/40\n",
      "15000/15000 [==============================] - 1s 46us/sample - loss: 0.6784 - acc: 0.7134 - val_loss: 0.6715 - val_acc: 0.7100\n",
      "Epoch 4/40\n",
      "15000/15000 [==============================] - 1s 47us/sample - loss: 0.6592 - acc: 0.7471 - val_loss: 0.6488 - val_acc: 0.7203\n",
      "Epoch 5/40\n",
      "15000/15000 [==============================] - 1s 46us/sample - loss: 0.6296 - acc: 0.7739 - val_loss: 0.6169 - val_acc: 0.7651\n",
      "Epoch 6/40\n",
      "15000/15000 [==============================] - 1s 48us/sample - loss: 0.5905 - acc: 0.8023 - val_loss: 0.5782 - val_acc: 0.8034\n",
      "Epoch 7/40\n",
      "15000/15000 [==============================] - 1s 58us/sample - loss: 0.5450 - acc: 0.8257 - val_loss: 0.5348 - val_acc: 0.8178\n",
      "Epoch 8/40\n",
      "15000/15000 [==============================] - 1s 49us/sample - loss: 0.4979 - acc: 0.8441 - val_loss: 0.4933 - val_acc: 0.8301\n",
      "Epoch 9/40\n",
      "15000/15000 [==============================] - 1s 52us/sample - loss: 0.4530 - acc: 0.8597 - val_loss: 0.4551 - val_acc: 0.8420\n",
      "Epoch 10/40\n",
      "15000/15000 [==============================] - 1s 48us/sample - loss: 0.4125 - acc: 0.8710 - val_loss: 0.4228 - val_acc: 0.8504\n",
      "Epoch 11/40\n",
      "15000/15000 [==============================] - 1s 48us/sample - loss: 0.3778 - acc: 0.8805 - val_loss: 0.3958 - val_acc: 0.8573\n",
      "Epoch 12/40\n",
      "15000/15000 [==============================] - 1s 53us/sample - loss: 0.3483 - acc: 0.8872 - val_loss: 0.3746 - val_acc: 0.8609\n",
      "Epoch 13/40\n",
      "15000/15000 [==============================] - 1s 46us/sample - loss: 0.3242 - acc: 0.8934 - val_loss: 0.3561 - val_acc: 0.8674\n",
      "Epoch 14/40\n",
      "15000/15000 [==============================] - 1s 46us/sample - loss: 0.3026 - acc: 0.8994 - val_loss: 0.3424 - val_acc: 0.8713\n",
      "Epoch 15/40\n",
      "15000/15000 [==============================] - 1s 46us/sample - loss: 0.2848 - acc: 0.9025 - val_loss: 0.3312 - val_acc: 0.8723\n",
      "Epoch 16/40\n",
      "15000/15000 [==============================] - 1s 46us/sample - loss: 0.2687 - acc: 0.9085 - val_loss: 0.3219 - val_acc: 0.8745\n",
      "Epoch 17/40\n",
      "15000/15000 [==============================] - 1s 46us/sample - loss: 0.2540 - acc: 0.9132 - val_loss: 0.3140 - val_acc: 0.8762\n",
      "Epoch 18/40\n",
      "15000/15000 [==============================] - 1s 47us/sample - loss: 0.2411 - acc: 0.9181 - val_loss: 0.3072 - val_acc: 0.8801\n",
      "Epoch 19/40\n",
      "15000/15000 [==============================] - 1s 46us/sample - loss: 0.2295 - acc: 0.9211 - val_loss: 0.3016 - val_acc: 0.8809\n",
      "Epoch 20/40\n",
      "15000/15000 [==============================] - 1s 46us/sample - loss: 0.2191 - acc: 0.9244 - val_loss: 0.2976 - val_acc: 0.8806\n",
      "Epoch 21/40\n",
      "15000/15000 [==============================] - 1s 46us/sample - loss: 0.2086 - acc: 0.9295 - val_loss: 0.2941 - val_acc: 0.8821\n",
      "Epoch 22/40\n",
      "15000/15000 [==============================] - 1s 46us/sample - loss: 0.1998 - acc: 0.9315 - val_loss: 0.2913 - val_acc: 0.8833\n",
      "Epoch 23/40\n",
      "15000/15000 [==============================] - 1s 46us/sample - loss: 0.1909 - acc: 0.9361 - val_loss: 0.2897 - val_acc: 0.8834\n",
      "Epoch 24/40\n",
      "15000/15000 [==============================] - 1s 47us/sample - loss: 0.1833 - acc: 0.9401 - val_loss: 0.2873 - val_acc: 0.8843\n",
      "Epoch 25/40\n",
      "15000/15000 [==============================] - 1s 46us/sample - loss: 0.1754 - acc: 0.9437 - val_loss: 0.2857 - val_acc: 0.8844\n",
      "Epoch 26/40\n",
      "15000/15000 [==============================] - 1s 46us/sample - loss: 0.1684 - acc: 0.9460 - val_loss: 0.2857 - val_acc: 0.8837\n",
      "Epoch 27/40\n",
      "15000/15000 [==============================] - 1s 48us/sample - loss: 0.1618 - acc: 0.9487 - val_loss: 0.2850 - val_acc: 0.8849\n",
      "Epoch 28/40\n",
      "15000/15000 [==============================] - 1s 50us/sample - loss: 0.1555 - acc: 0.9521 - val_loss: 0.2847 - val_acc: 0.8849\n",
      "Epoch 29/40\n",
      "15000/15000 [==============================] - 1s 48us/sample - loss: 0.1501 - acc: 0.9545 - val_loss: 0.2864 - val_acc: 0.8835\n",
      "Epoch 30/40\n",
      "15000/15000 [==============================] - 1s 47us/sample - loss: 0.1444 - acc: 0.9565 - val_loss: 0.2854 - val_acc: 0.8854\n",
      "Epoch 31/40\n",
      "15000/15000 [==============================] - 1s 46us/sample - loss: 0.1385 - acc: 0.9591 - val_loss: 0.2861 - val_acc: 0.8862\n",
      "Epoch 32/40\n",
      "15000/15000 [==============================] - 1s 48us/sample - loss: 0.1333 - acc: 0.9614 - val_loss: 0.2873 - val_acc: 0.8866\n",
      "Epoch 33/40\n",
      "15000/15000 [==============================] - 1s 49us/sample - loss: 0.1282 - acc: 0.9629 - val_loss: 0.2893 - val_acc: 0.8851\n",
      "Epoch 34/40\n",
      "15000/15000 [==============================] - 1s 49us/sample - loss: 0.1238 - acc: 0.9650 - val_loss: 0.2906 - val_acc: 0.8851\n",
      "Epoch 35/40\n",
      "15000/15000 [==============================] - 1s 48us/sample - loss: 0.1196 - acc: 0.9657 - val_loss: 0.2932 - val_acc: 0.8853\n",
      "Epoch 36/40\n",
      "15000/15000 [==============================] - 1s 49us/sample - loss: 0.1151 - acc: 0.9685 - val_loss: 0.2946 - val_acc: 0.8857\n",
      "Epoch 37/40\n",
      "15000/15000 [==============================] - 1s 46us/sample - loss: 0.1108 - acc: 0.9697 - val_loss: 0.2967 - val_acc: 0.8843\n",
      "Epoch 38/40\n",
      "15000/15000 [==============================] - 1s 46us/sample - loss: 0.1069 - acc: 0.9709 - val_loss: 0.2998 - val_acc: 0.8836\n",
      "Epoch 39/40\n",
      "15000/15000 [==============================] - 1s 48us/sample - loss: 0.1036 - acc: 0.9723 - val_loss: 0.3025 - val_acc: 0.8827\n",
      "Epoch 40/40\n",
      "15000/15000 [==============================] - 1s 49us/sample - loss: 0.0996 - acc: 0.9737 - val_loss: 0.3046 - val_acc: 0.8837\n"
     ]
    }
   ],
   "source": [
    "# Model training.\n",
    "history = model.fit(x_train,\n",
    "                    y_train,\n",
    "                    epochs=40,\n",
    "                    batch_size=512,\n",
    "                    validation_data=(x_val, y_val))"
   ]
  },
  {
   "cell_type": "code",
   "execution_count": 9,
   "metadata": {},
   "outputs": [
    {
     "name": "stdout",
     "output_type": "stream",
     "text": [
      "25000/25000 [==============================] - 1s 23us/sample - loss: 0.3243 - acc: 0.8728\n",
      "[0.3243419902086258, 0.87284]\n"
     ]
    }
   ],
   "source": [
    "# Print result.\n",
    "results = model.evaluate(test_data, test_labels)\n",
    "print(results)"
   ]
  },
  {
   "cell_type": "code",
   "execution_count": 11,
   "metadata": {},
   "outputs": [
    {
     "data": {
      "image/png": "[encoded data removed]",
      "text/plain": [
       "<Figure size 432x288 with 1 Axes>"
      ]
     },
     "metadata": {},
     "output_type": "display_data"
    }
   ],
   "source": [
    "# Visualize the learning curve on loss.\n",
    "history_dict = history.history  # history_dict has keys of ['loss', 'val_loss', 'val_acc', 'acc']\n",
    "\n",
    "acc = history_dict['acc']\n",
    "loss = history_dict['loss']\n",
    "val_loss = history_dict['val_loss']\n",
    "\n",
    "epochs = range(1, len(acc) + 1)\n",
    "\n",
    "plt.plot(epochs, loss, 'ro', label='Training loss')\n",
    "plt.plot(epochs, val_loss, 'r', label='Validation loss')\n",
    "plt.title('Training and Validation Loss')\n",
    "plt.xlabel('Epochs')\n",
    "plt.ylabel('Loss')\n",
    "plt.legend()\n",
    "\n",
    "plt.show()"
   ]
  },
  {
   "cell_type": "code",
   "execution_count": 12,
   "metadata": {},
   "outputs": [
    {
     "data": {
      "image/png": "[encoded data removed]",
      "text/plain": [
       "<Figure size 432x288 with 1 Axes>"
      ]
     },
     "metadata": {},
     "output_type": "display_data"
    }
   ],
   "source": [
    "# Visualize the learrning curve on accuracy.\n",
    "plt.clf()   # clear figure\n",
    "acc = history_dict['acc']\n",
    "val_acc = history_dict['val_acc']\n",
    "\n",
    "plt.plot(epochs, acc, 'ro', label='Training acc')\n",
    "plt.plot(epochs, val_acc, 'r', label='Validation acc')\n",
    "plt.title('Training and validation accuracy')\n",
    "plt.xlabel('Epochs')\n",
    "plt.ylabel('Accuracy')\n",
    "plt.legend()\n",
    "\n",
    "plt.show()"
   ]
  }
 ],
 "metadata": {
  "kernelspec": {
   "display_name": "Python 3",
   "language": "python",
   "name": "python3"
  },
  "language_info": {
   "codemirror_mode": {
    "name": "ipython",
    "version": 3
   },
   "file_extension": ".py",
   "mimetype": "text/x-python",
   "name": "python",
   "nbconvert_exporter": "python",
   "pygments_lexer": "ipython3",
   "version": "3.6.3"
  }
 },
 "nbformat": 4,
 "nbformat_minor": 2
}
