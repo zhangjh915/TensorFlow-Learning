{
 "cells": [
  {
   "cell_type": "markdown",
   "metadata": {},
   "source": [
    "Saving and restoring models are important for training if we want to restart training from a certain position. This allows us to save all of the parameters during training and start whenever is needed. In this notebook, [MNIST](http://yann.lecun.com/exdb/mnist/) dataset is used and only the first 1000 samples are used in order to train fast to demonstrate how model saving works."
   ]
  },
  {
   "cell_type": "code",
   "execution_count": 1,
   "metadata": {},
   "outputs": [],
   "source": [
    "# Import needed packages.\n",
    "import os\n",
    "\n",
    "import tensorflow as tf\n",
    "from tensorflow import keras"
   ]
  },
  {
   "cell_type": "code",
   "execution_count": 2,
   "metadata": {},
   "outputs": [],
   "source": [
    "# Download dataset.\n",
    "(train_images, train_labels), (test_images, test_labels) = tf.keras.datasets.mnist.load_data()\n",
    "\n",
    "train_labels = train_labels[:1000]\n",
    "test_labels = test_labels[:1000]\n",
    "\n",
    "train_images = train_images[:1000].reshape(-1, 28 * 28) / 255.0\n",
    "test_images = test_images[:1000].reshape(-1, 28 * 28) / 255.0"
   ]
  },
  {
   "cell_type": "code",
   "execution_count": 3,
   "metadata": {},
   "outputs": [
    {
     "name": "stdout",
     "output_type": "stream",
     "text": [
      "_________________________________________________________________\n",
      "Layer (type)                 Output Shape              Param #   \n",
      "=================================================================\n",
      "dense (Dense)                (None, 512)               401920    \n",
      "_________________________________________________________________\n",
      "dropout (Dropout)            (None, 512)               0         \n",
      "_________________________________________________________________\n",
      "dense_1 (Dense)              (None, 10)                5130      \n",
      "=================================================================\n",
      "Total params: 407,050\n",
      "Trainable params: 407,050\n",
      "Non-trainable params: 0\n",
      "_________________________________________________________________\n"
     ]
    }
   ],
   "source": [
    "# Model construction.\n",
    "def model_create():\n",
    "    model = keras.models.Sequential([keras.layers.Dense(512, activation=tf.nn.relu,input_shape=(784,)),\n",
    "                                   keras.layers.Dropout(0.2),\n",
    "                                   keras.layers.Dense(10, activation=tf.nn.softmax)\n",
    "\n",
    "    ])\n",
    "\n",
    "    model.compile(optimizer=keras.optimizers.Adam(),\n",
    "                 loss=keras.losses.sparse_categorical_crossentropy,\n",
    "                 metrics=['accuracy'])\n",
    "    return model\n",
    "\n",
    "model = model_create()\n",
    "model.summary()"
   ]
  },
  {
   "cell_type": "code",
   "execution_count": 4,
   "metadata": {},
   "outputs": [
    {
     "name": "stdout",
     "output_type": "stream",
     "text": [
      "Train on 1000 samples, validate on 1000 samples\n",
      "Epoch 1/10\n",
      "1000/1000 [==============================] - 1s 910us/step - loss: 1.1950 - acc: 0.6640 - val_loss: 0.7350 - val_acc: 0.7790\n",
      "\n",
      "Epoch 00001: saving model to ckpts/model1.ckpt\n",
      "Epoch 2/10\n",
      "1000/1000 [==============================] - 0s 397us/step - loss: 0.4261 - acc: 0.8750 - val_loss: 0.5285 - val_acc: 0.8350\n",
      "\n",
      "Epoch 00002: saving model to ckpts/model1.ckpt\n",
      "Epoch 3/10\n",
      "1000/1000 [==============================] - 0s 389us/step - loss: 0.2870 - acc: 0.9260 - val_loss: 0.5077 - val_acc: 0.8360\n",
      "\n",
      "Epoch 00003: saving model to ckpts/model1.ckpt\n",
      "Epoch 4/10\n",
      "1000/1000 [==============================] - 0s 382us/step - loss: 0.2188 - acc: 0.9410 - val_loss: 0.4759 - val_acc: 0.8510\n",
      "\n",
      "Epoch 00004: saving model to ckpts/model1.ckpt\n",
      "Epoch 5/10\n",
      "1000/1000 [==============================] - 0s 425us/step - loss: 0.1604 - acc: 0.9600 - val_loss: 0.4527 - val_acc: 0.8540\n",
      "\n",
      "Epoch 00005: saving model to ckpts/model1.ckpt\n",
      "Epoch 6/10\n",
      "1000/1000 [==============================] - 0s 366us/step - loss: 0.1231 - acc: 0.9730 - val_loss: 0.4114 - val_acc: 0.8690\n",
      "\n",
      "Epoch 00006: saving model to ckpts/model1.ckpt\n",
      "Epoch 7/10\n",
      "1000/1000 [==============================] - 0s 410us/step - loss: 0.0919 - acc: 0.9900 - val_loss: 0.4392 - val_acc: 0.8590\n",
      "\n",
      "Epoch 00007: saving model to ckpts/model1.ckpt\n",
      "Epoch 8/10\n",
      "1000/1000 [==============================] - 0s 410us/step - loss: 0.0645 - acc: 0.9920 - val_loss: 0.4011 - val_acc: 0.8670\n",
      "\n",
      "Epoch 00008: saving model to ckpts/model1.ckpt\n",
      "Epoch 9/10\n",
      "1000/1000 [==============================] - 0s 411us/step - loss: 0.0494 - acc: 0.9990 - val_loss: 0.4165 - val_acc: 0.8610\n",
      "\n",
      "Epoch 00009: saving model to ckpts/model1.ckpt\n",
      "Epoch 10/10\n",
      "1000/1000 [==============================] - 0s 437us/step - loss: 0.0444 - acc: 0.9970 - val_loss: 0.4164 - val_acc: 0.8690\n",
      "\n",
      "Epoch 00010: saving model to ckpts/model1.ckpt\n"
     ]
    },
    {
     "data": {
      "text/plain": [
       "<tensorflow.python.keras.callbacks.History at 0x1c6f04d13c8>"
      ]
     },
     "execution_count": 4,
     "metadata": {},
     "output_type": "execute_result"
    }
   ],
   "source": [
    "# Save model checkpoint.\n",
    "ckpt_path = 'ckpts/model1.ckpt'\n",
    "ckpt_dir = os.path.dirname(ckpt_path)\n",
    "\n",
    "# Create checkpoint callback.\n",
    "ckpt_callback = keras.callbacks.ModelCheckpoint(ckpt_path,\n",
    "                                                save_weights_only=True,\n",
    "                                                verbose=1)\n",
    "\n",
    "model.fit(train_images, train_labels, epochs=10,\n",
    "          validation_data=(test_images, test_labels),\n",
    "          callbacks=[ckpt_callback])"
   ]
  },
  {
   "cell_type": "markdown",
   "metadata": {},
   "source": [
    "Now if we nevigate to the jupyter notebook directory, we will find a new folder called \"ckpts\" with three different files of \"checkpoint\", \"model1.ckpt.data-00000-of-00001\" and \"model1.ckpt.index\". Next step is to create a new model to be evaluated using the validation set. Then load the checkpoint to evaluate again. The expected result is that the new model would have low accuracy due to the randomness of the parameters, while the model with loaded checkpoint would have a high accuracy since it comes from a trained model."
   ]
  },
  {
   "cell_type": "code",
   "execution_count": 5,
   "metadata": {},
   "outputs": [
    {
     "name": "stdout",
     "output_type": "stream",
     "text": [
      "1000/1000 [==============================] - 0s 341us/step\n",
      "Accuracy of the untrained new model is:  0.073\n"
     ]
    }
   ],
   "source": [
    "# Create and evaluate a new model.\n",
    "new_model = model_create()\n",
    "\n",
    "loss, acc = new_model.evaluate(test_images, test_labels)\n",
    "print('Accuracy of the untrained new model is: ', acc)"
   ]
  },
  {
   "cell_type": "code",
   "execution_count": 6,
   "metadata": {},
   "outputs": [
    {
     "name": "stdout",
     "output_type": "stream",
     "text": [
      "1000/1000 [==============================] - 0s 57us/step\n",
      "Accuracy of the new model with loaded checkpoint is:  0.869\n"
     ]
    }
   ],
   "source": [
    "# Load the checkpoint and evaluate again.\n",
    "new_model.load_weights(ckpt_path)\n",
    "\n",
    "loss, acc = new_model.evaluate(test_images, test_labels)\n",
    "print('Accuracy of the new model with loaded checkpoint is: ', acc)"
   ]
  },
  {
   "cell_type": "markdown",
   "metadata": {},
   "source": [
    "The difference obviously comes from the random model and the trained model. This means the checkpoint parameters are loaded successfully to the new model. And the next step is to do the same trick but save model every 5 epochs, which is more common and useful in deep learning training."
   ]
  },
  {
   "cell_type": "code",
   "execution_count": 7,
   "metadata": {},
   "outputs": [
    {
     "name": "stdout",
     "output_type": "stream",
     "text": [
      "\n",
      "Epoch 00005: saving model to ckpts/model2-05.ckpt\n",
      "\n",
      "Epoch 00010: saving model to ckpts/model2-10.ckpt\n",
      "\n",
      "Epoch 00015: saving model to ckpts/model2-15.ckpt\n",
      "\n",
      "Epoch 00020: saving model to ckpts/model2-20.ckpt\n",
      "\n",
      "Epoch 00025: saving model to ckpts/model2-25.ckpt\n",
      "\n",
      "Epoch 00030: saving model to ckpts/model2-30.ckpt\n",
      "\n",
      "Epoch 00035: saving model to ckpts/model2-35.ckpt\n",
      "\n",
      "Epoch 00040: saving model to ckpts/model2-40.ckpt\n",
      "\n",
      "Epoch 00045: saving model to ckpts/model2-45.ckpt\n",
      "\n",
      "Epoch 00050: saving model to ckpts/model2-50.ckpt\n"
     ]
    },
    {
     "data": {
      "text/plain": [
       "<tensorflow.python.keras.callbacks.History at 0x1c6efcdc1d0>"
      ]
     },
     "execution_count": 7,
     "metadata": {},
     "output_type": "execute_result"
    }
   ],
   "source": [
    "# Save model checkpoint.\n",
    "ckpt_path = 'ckpts/model2-{epoch:02d}.ckpt'\n",
    "ckpt_dir = os.path.dirname(ckpt_path)\n",
    "\n",
    "# Create checkpoint callback.\n",
    "ckpt_callback = keras.callbacks.ModelCheckpoint(ckpt_path,\n",
    "                                                save_weights_only=True,\n",
    "                                                verbose=1,\n",
    "                                                period=5)\n",
    "\n",
    "model = model_create()\n",
    "model.fit(train_images, train_labels, epochs=50,\n",
    "          validation_data=(test_images, test_labels),\n",
    "          callbacks=[ckpt_callback],\n",
    "          verbose=0)"
   ]
  },
  {
   "cell_type": "markdown",
   "metadata": {},
   "source": [
    "Now we have 10 new saved checkpoionts in the \"ckpts\" folder, which are saved for each 5 epochs of the trained model. And we can extract the last checkpoint file directly by using the following code:"
   ]
  },
  {
   "cell_type": "code",
   "execution_count": 8,
   "metadata": {},
   "outputs": [
    {
     "data": {
      "text/plain": [
       "'ckpts\\\\model2-50.ckpt'"
      ]
     },
     "execution_count": 8,
     "metadata": {},
     "output_type": "execute_result"
    }
   ],
   "source": [
    "latest_ckpt = tf.train.latest_checkpoint(ckpt_dir)\n",
    "latest_ckpt"
   ]
  },
  {
   "cell_type": "code",
   "execution_count": 9,
   "metadata": {},
   "outputs": [
    {
     "name": "stdout",
     "output_type": "stream",
     "text": [
      "1000/1000 [==============================] - 0s 243us/step\n",
      "Accuracy of the new model with loaded checkpoint is:  0.874\n"
     ]
    }
   ],
   "source": [
    "# Load the latest checkpoint and evaluate the model.\n",
    "new_model = model_create()\n",
    "new_model.load_weights(latest_ckpt)\n",
    "\n",
    "loss, acc = new_model.evaluate(test_images, test_labels)\n",
    "print('Accuracy of the new model with loaded checkpoint is: ', acc)"
   ]
  },
  {
   "cell_type": "markdown",
   "metadata": {},
   "source": [
    "Besides, tensorflow also provides a way to save and load the model weights manually as shown below(notice that there could be no postfix):"
   ]
  },
  {
   "cell_type": "code",
   "execution_count": 10,
   "metadata": {},
   "outputs": [
    {
     "name": "stdout",
     "output_type": "stream",
     "text": [
      "1000/1000 [==============================] - 0s 273us/step\n",
      "Accuracy of the new model with loaded checkpoint is:  0.874\n"
     ]
    }
   ],
   "source": [
    "new_model.save_weights('./ckpts/new_model_manual')  # save weights manually\n",
    "model = model_create()\n",
    "model.load_weights('./ckpts/new_model_manual')  # load weights manually\n",
    "\n",
    "loss, acc = model.evaluate(test_images, test_labels)\n",
    "print('Accuracy of the new model with loaded checkpoint is: ', acc)"
   ]
  },
  {
   "cell_type": "markdown",
   "metadata": {},
   "source": [
    "Furthermore, tensorflow also proveides us a way to save the entire model instead of only parameters. The model would also contain optimizer and model configuration."
   ]
  },
  {
   "cell_type": "code",
   "execution_count": 11,
   "metadata": {},
   "outputs": [
    {
     "name": "stdout",
     "output_type": "stream",
     "text": [
      "Train on 1000 samples, validate on 1000 samples\n",
      "Epoch 1/10\n",
      "1000/1000 [==============================] - 1s 965us/step - loss: 1.1780 - acc: 0.6520 - val_loss: 0.7394 - val_acc: 0.7890\n",
      "Epoch 2/10\n",
      "1000/1000 [==============================] - 0s 391us/step - loss: 0.4201 - acc: 0.8810 - val_loss: 0.5548 - val_acc: 0.8280\n",
      "Epoch 3/10\n",
      "1000/1000 [==============================] - 0s 394us/step - loss: 0.2816 - acc: 0.9290 - val_loss: 0.4874 - val_acc: 0.8430\n",
      "Epoch 4/10\n",
      "1000/1000 [==============================] - 0s 385us/step - loss: 0.2087 - acc: 0.9520 - val_loss: 0.4290 - val_acc: 0.8610\n",
      "Epoch 5/10\n",
      "1000/1000 [==============================] - 0s 385us/step - loss: 0.1507 - acc: 0.9700 - val_loss: 0.4362 - val_acc: 0.8720\n",
      "Epoch 6/10\n",
      "1000/1000 [==============================] - 0s 386us/step - loss: 0.1188 - acc: 0.9760 - val_loss: 0.4352 - val_acc: 0.8590\n",
      "Epoch 7/10\n",
      "1000/1000 [==============================] - 0s 391us/step - loss: 0.0913 - acc: 0.9870 - val_loss: 0.4214 - val_acc: 0.8640\n",
      "Epoch 8/10\n",
      "1000/1000 [==============================] - 0s 380us/step - loss: 0.0642 - acc: 0.9940 - val_loss: 0.4275 - val_acc: 0.8520\n",
      "Epoch 9/10\n",
      "1000/1000 [==============================] - 0s 387us/step - loss: 0.0520 - acc: 0.9970 - val_loss: 0.4232 - val_acc: 0.8580\n",
      "Epoch 10/10\n",
      "1000/1000 [==============================] - 0s 387us/step - loss: 0.0401 - acc: 0.9990 - val_loss: 0.3989 - val_acc: 0.8690\n"
     ]
    }
   ],
   "source": [
    "model = model_create()\n",
    "\n",
    "model.fit(train_images, train_labels, epochs=10,\n",
    "          validation_data=(test_images, test_labels))\n",
    "\n",
    "model.save('ckpts/entire_model')  # save the entire model"
   ]
  },
  {
   "cell_type": "code",
   "execution_count": 12,
   "metadata": {},
   "outputs": [
    {
     "name": "stdout",
     "output_type": "stream",
     "text": [
      "_________________________________________________________________\n",
      "Layer (type)                 Output Shape              Param #   \n",
      "=================================================================\n",
      "dense_10 (Dense)             (None, 512)               401920    \n",
      "_________________________________________________________________\n",
      "dropout_5 (Dropout)          (None, 512)               0         \n",
      "_________________________________________________________________\n",
      "dense_11 (Dense)             (None, 10)                5130      \n",
      "=================================================================\n",
      "Total params: 407,050\n",
      "Trainable params: 407,050\n",
      "Non-trainable params: 0\n",
      "_________________________________________________________________\n"
     ]
    }
   ],
   "source": [
    "new_model = keras.models.load_model('ckpts/entire_model')  # load the entire model\n",
    "\n",
    "new_model.summary()"
   ]
  }
 ],
 "metadata": {
  "kernelspec": {
   "display_name": "Python 3",
   "language": "python",
   "name": "python3"
  },
  "language_info": {
   "codemirror_mode": {
    "name": "ipython",
    "version": 3
   },
   "file_extension": ".py",
   "mimetype": "text/x-python",
   "name": "python",
   "nbconvert_exporter": "python",
   "pygments_lexer": "ipython3",
   "version": "3.6.3"
  }
 },
 "nbformat": 4,
 "nbformat_minor": 2
}
